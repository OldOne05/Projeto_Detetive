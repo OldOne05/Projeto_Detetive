{
  "nbformat": 4,
  "nbformat_minor": 0,
  "metadata": {
    "colab": {
      "name": "Desafio.detetive",
      "provenance": []
    },
    "kernelspec": {
      "name": "python3",
      "display_name": "Python 3"
    },
    "language_info": {
      "name": "python"
    }
  },
  "cells": [
    {
      "cell_type": "code",
      "metadata": {
        "colab": {
          "base_uri": "https://localhost:8080/"
        },
        "id": "IzYNpmVNrjIW",
        "outputId": "6a24b6d9-c024-4bd0-a00f-568cc51c5b90"
      },
      "source": [
        "per1 = str(input(\"Você telefonou para a vítima?: [S ou N]\\n\")).capitalize()\n",
        "per2 = str(input(\"Você esteve no local do crime?: [S ou N]\\n\")).capitalize()\n",
        "per3 = str(input(\"Você mora perto da vítima?: [S ou N]\\n\")).capitalize()\n",
        "per4 = str(input(\"Você devia para a vítima?: [S ou N]\\n\")).capitalize()\n",
        "per5 = str(input(\"Você já trabalhou para a vítima? [S ou N]:\\n\")).capitalize()\n",
        "\n",
        "if per1 == \"S\" and per2 == \"S\" :\n",
        "  estadocrim = \"Suspeito\"\n",
        "  if per1 == \"S\" and per2 == \"S\" and per3 == \"S\" or per1 == \"S\" and per2 == \"S\" and per3 == \"S\" and per4 == \"S\" :\n",
        "    estadocrim = \"Cúmplice\"\n",
        "    if per1 == \"S\" and per2 == \"S\" and per3 == \"S\" and per4 == \"S\" and per5 == \"S\" :\n",
        "      estadocrim = \"Assassino\"\n",
        "else:\n",
        "  estadocrim = \"Inocente\"\n",
        "print()\n",
        "print(f\"Você é {estadocrim} \")"
      ],
      "execution_count": 13,
      "outputs": [
        {
          "output_type": "stream",
          "text": [
            "Você telefonou para a vítima?: [S ou N]\n",
            "s\n",
            "Você esteve no local do crime?: [S ou N]\n",
            "s\n",
            "Você mora perto da vítima?: [S ou N]\n",
            "s\n",
            "Você devia para a vítima?: [S ou N]\n",
            "s\n",
            "Você já trabalhou para a vítima? [S ou N]:\n",
            "s\n",
            "\n",
            "Você é Assassino \n"
          ],
          "name": "stdout"
        }
      ]
    }
  ]
}